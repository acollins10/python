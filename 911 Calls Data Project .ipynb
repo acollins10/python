{
 "cells": [
  {
   "cell_type": "markdown",
   "metadata": {},
   "source": [
    "# 911 Calls Project"
   ]
  },
  {
   "cell_type": "markdown",
   "metadata": {},
   "source": [
    "For this project I will be analyzing some 911 call data from [Kaggle](https://www.kaggle.com/mchirico/montcoalert). 
   ]
  },
  {
   "cell_type": "markdown",
   "metadata": {},
   "source": [
   
   ]
  },
  {
   "cell_type": "markdown",
   "metadata": {},
   "source": [
    "____\n",
    
   ]
  },
  {
   "cell_type": "code",
   "execution_count": 1,
   "metadata": {},
   "outputs": [],
   "source": [
    "import numpy as np\n",
    "import pandas as pd"
   ]
  },
  {
   "cell_type": "markdown",
   "metadata": {},
   "source": [
    
   ]
  },
  {
   "cell_type": "code",
   "execution_count": 17,
   "metadata": {},
   "outputs": [],
   "source": [
    "%matplotlib inline\n",
    "import seaborn as sns\n",
    "import matplotlib.pyplot as plt\n",
    "import plotly.plotly as py"
   ]
  },
  {
   "cell_type": "markdown",
   "metadata": {},
   "source": [
    "** Read in the csv file as a dataframe called df **"
   ]
  },
  {
   "cell_type": "code",
   "execution_count": 18,
   "metadata": {},
   "outputs": [],
   "source": [
    "df=pd.read_csv('911.csv')"
   ]
  },
  {
   "cell_type": "markdown",
   "metadata": {},
   "source": [
    "** Check the info() of the df **"
   ]
  },
  {
   "cell_type": "code",
   "execution_count": 19,
   "metadata": {},
   "outputs": [
    {
     "name": "stdout",
     "output_type": "stream",
     "text": [
      "<class 'pandas.core.frame.DataFrame'>\n",
      "RangeIndex: 99492 entries, 0 to 99491\n",
      "Data columns (total 9 columns):\n",
      "lat          99492 non-null float64\n",
      "lng          99492 non-null float64\n",
      "desc         99492 non-null object\n",
      "zip          86637 non-null float64\n",
      "title        99492 non-null object\n",
      "timeStamp    99492 non-null object\n",
      "twp          99449 non-null object\n",
      "addr         98973 non-null object\n",
      "e            99492 non-null int64\n",
      "dtypes: float64(3), int64(1), object(5)\n",
      "memory usage: 4.9+ MB\n"
     ]
    }
   ],
   "source": [
    "df.info()"
   ]
  },
  {
   "cell_type": "markdown",
   "metadata": {},
   "source": [
    "** Check the head of df **"
   ]
  },
  {
   "cell_type": "code",
   "execution_count": 20,
   "metadata": {},
   "outputs": [
    {
     "data": {
      "text/html": [
       "<div>\n",
       "<style scoped>\n",
       "    .dataframe tbody tr th:only-of-type {\n",
       "        vertical-align: middle;\n",
       "    }\n",
       "\n",
       "    .dataframe tbody tr th {\n",
       "        vertical-align: top;\n",
       "    }\n",
       "\n",
       "    .dataframe thead th {\n",
       "        text-align: right;\n",
       "    }\n",
       "</style>\n",
       "<table border=\"1\" class=\"dataframe\">\n",
       "  <thead>\n",
       "    <tr style=\"text-align: right;\">\n",
       "      <th></th>\n",
       "      <th>lat</th>\n",
       "      <th>lng</th>\n",
       "      <th>desc</th>\n",
       "      <th>zip</th>\n",
       "      <th>title</th>\n",
       "      <th>timeStamp</th>\n",
       "      <th>twp</th>\n",
       "      <th>addr</th>\n",
       "      <th>e</th>\n",
       "    </tr>\n",
       "  </thead>\n",
       "  <tbody>\n",
       "    <tr>\n",
       "      <th>0</th>\n",
       "      <td>40.297876</td>\n",
       "      <td>-75.581294</td>\n",
       "      <td>REINDEER CT &amp; DEAD END;  NEW HANOVER; Station ...</td>\n",
       "      <td>19525.0</td>\n",
       "      <td>EMS: BACK PAINS/INJURY</td>\n",
       "      <td>2015-12-10 17:40:00</td>\n",
       "      <td>NEW HANOVER</td>\n",
       "      <td>REINDEER CT &amp; DEAD END</td>\n",
       "      <td>1</td>\n",
       "    </tr>\n",
       "    <tr>\n",
       "      <th>1</th>\n",
       "      <td>40.258061</td>\n",
       "      <td>-75.264680</td>\n",
       "      <td>BRIAR PATH &amp; WHITEMARSH LN;  HATFIELD TOWNSHIP...</td>\n",
       "      <td>19446.0</td>\n",
       "      <td>EMS: DIABETIC EMERGENCY</td>\n",
       "      <td>2015-12-10 17:40:00</td>\n",
       "      <td>HATFIELD TOWNSHIP</td>\n",
       "      <td>BRIAR PATH &amp; WHITEMARSH LN</td>\n",
       "      <td>1</td>\n",
       "    </tr>\n",
       "    <tr>\n",
       "      <th>2</th>\n",
       "      <td>40.121182</td>\n",
       "      <td>-75.351975</td>\n",
       "      <td>HAWS AVE; NORRISTOWN; 2015-12-10 @ 14:39:21-St...</td>\n",
       "      <td>19401.0</td>\n",
       "      <td>Fire: GAS-ODOR/LEAK</td>\n",
       "      <td>2015-12-10 17:40:00</td>\n",
       "      <td>NORRISTOWN</td>\n",
       "      <td>HAWS AVE</td>\n",
       "      <td>1</td>\n",
       "    </tr>\n",
       "    <tr>\n",
       "      <th>3</th>\n",
       "      <td>40.116153</td>\n",
       "      <td>-75.343513</td>\n",
       "      <td>AIRY ST &amp; SWEDE ST;  NORRISTOWN; Station 308A;...</td>\n",
       "      <td>19401.0</td>\n",
       "      <td>EMS: CARDIAC EMERGENCY</td>\n",
       "      <td>2015-12-10 17:40:01</td>\n",
       "      <td>NORRISTOWN</td>\n",
       "      <td>AIRY ST &amp; SWEDE ST</td>\n",
       "      <td>1</td>\n",
       "    </tr>\n",
       "    <tr>\n",
       "      <th>4</th>\n",
       "      <td>40.251492</td>\n",
       "      <td>-75.603350</td>\n",
       "      <td>CHERRYWOOD CT &amp; DEAD END;  LOWER POTTSGROVE; S...</td>\n",
       "      <td>NaN</td>\n",
       "      <td>EMS: DIZZINESS</td>\n",
       "      <td>2015-12-10 17:40:01</td>\n",
       "      <td>LOWER POTTSGROVE</td>\n",
       "      <td>CHERRYWOOD CT &amp; DEAD END</td>\n",
       "      <td>1</td>\n",
       "    </tr>\n",
       "  </tbody>\n",
       "</table>\n",
       "</div>"
      ],
      "text/plain": [
       "         lat        lng                                               desc  \\\n",
       "0  40.297876 -75.581294  REINDEER CT & DEAD END;  NEW HANOVER; Station ...   \n",
       "1  40.258061 -75.264680  BRIAR PATH & WHITEMARSH LN;  HATFIELD TOWNSHIP...   \n",
       "2  40.121182 -75.351975  HAWS AVE; NORRISTOWN; 2015-12-10 @ 14:39:21-St...   \n",
       "3  40.116153 -75.343513  AIRY ST & SWEDE ST;  NORRISTOWN; Station 308A;...   \n",
       "4  40.251492 -75.603350  CHERRYWOOD CT & DEAD END;  LOWER POTTSGROVE; S...   \n",
       "\n",
       "       zip                    title            timeStamp                twp  \\\n",
       "0  19525.0   EMS: BACK PAINS/INJURY  2015-12-10 17:40:00        NEW HANOVER   \n",
       "1  19446.0  EMS: DIABETIC EMERGENCY  2015-12-10 17:40:00  HATFIELD TOWNSHIP   \n",
       "2  19401.0      Fire: GAS-ODOR/LEAK  2015-12-10 17:40:00         NORRISTOWN   \n",
       "3  19401.0   EMS: CARDIAC EMERGENCY  2015-12-10 17:40:01         NORRISTOWN   \n",
       "4      NaN           EMS: DIZZINESS  2015-12-10 17:40:01   LOWER POTTSGROVE   \n",
       "\n",
       "                         addr  e  \n",
       "0      REINDEER CT & DEAD END  1  \n",
       "1  BRIAR PATH & WHITEMARSH LN  1  \n",
       "2                    HAWS AVE  1  \n",
       "3          AIRY ST & SWEDE ST  1  \n",
       "4    CHERRYWOOD CT & DEAD END  1  "
      ]
     },
     "execution_count": 20,
     "metadata": {},
     "output_type": "execute_result"
    }
   ],
   "source": [
    "df.head()"
   ]
  },
  {
   "cell_type": "markdown",
   "metadata": {},
   "source": [
    "## Basic Questions"
   ]
  },
  {
   "cell_type": "markdown",
   "metadata": {},
   "source": [
    "** What are the top 5 zipcodes for 911 calls? **"
   ]
  },
  {
   "cell_type": "code",
   "execution_count": 33,
   "metadata": {},
   "outputs": [
    {
     "data": {
      "text/plain": [
       "19401.0    6979\n",
       "19464.0    6643\n",
       "19403.0    4854\n",
       "19446.0    4748\n",
       "19406.0    3174\n",
       "Name: zip, dtype: int64"
      ]
     },
     "execution_count": 33,
     "metadata": {},
     "output_type": "execute_result"
    }
   ],
   "source": [
    "df['zip'].value_counts().head(5)"
   ]
  },
  {
   "cell_type": "code",
   "execution_count": null,
   "metadata": {},
   "outputs": [],
   "source": []
  },
  {
   "cell_type": "markdown",
   "metadata": {},
   "source": [
    "** What are the top 5 townships (twp) for 911 calls? **"
   ]
  },
  {
   "cell_type": "code",
   "execution_count": 31,
   "metadata": {},
   "outputs": [
    {
     "data": {
      "text/plain": [
       "LOWER MERION    8443\n",
       "ABINGTON        5977\n",
       "NORRISTOWN      5890\n",
       "UPPER MERION    5227\n",
       "CHELTENHAM      4575\n",
       "Name: twp, dtype: int64"
      ]
     },
     "execution_count": 31,
     "metadata": {},
     "output_type": "execute_result"
    }
   ],
   "source": [
    "df['twp'].value_counts().head(5)"
   ]
  },
  {
   "cell_type": "code",
   "execution_count": 135,
   "metadata": {},
   "outputs": [
    {
     "data": {
      "text/plain": [
       "LOWER MERION    8443\n",
       "ABINGTON        5977\n",
       "NORRISTOWN      5890\n",
       "UPPER MERION    5227\n",
       "CHELTENHAM      4575\n",
       "Name: twp, dtype: int64"
      ]
     },
     "execution_count": 135,
     "metadata": {},
     "output_type": "execute_result"
    }
   ],
   "source": []
  },
  {
   "cell_type": "markdown",
   "metadata": {},
   "source": [
    "** Take a look at the 'title' column, how many unique title codes are there? **"
   ]
  },
  {
   "cell_type": "code",
   "execution_count": 37,
   "metadata": {},
   "outputs": [
    {
     "data": {
      "text/plain": [
       "110"
      ]
     },
     "execution_count": 37,
     "metadata": {},
     "output_type": "execute_result"
    }
   ],
   "source": [
    "df['title'].nunique()"
   ]
  },
  {
   "cell_type": "code",
   "execution_count": 136,
   "metadata": {},
   "outputs": [
    {
     "data": {
      "text/plain": [
       "110"
      ]
     },
     "execution_count": 136,
     "metadata": {},
     "output_type": "execute_result"
    }
   ],
   "source": []
  },
  {
   "cell_type": "markdown",
   "metadata": {},
   "source": [
    "## Creating new features"
   ]
  },
  {
   "cell_type": "markdown",
   "metadata": {},
   "source": [
    "** In the titles column there are \"Reasons/Departments\" specified before the title code. These are EMS, Fire, and Traffic. Use .apply() with a custom lambda expression to create a new column called \"Reason\" that contains this string value.** \n",
    "\n",
    "**For example, if the title column value is EMS: BACK PAINS/INJURY , the Reason column value would be EMS. **"
   ]
  },
  {
   "cell_type": "code",
   "execution_count": 39,
   "metadata": {},
   "outputs": [],
   "source": [
    "df['Reason'] = df['title'].apply(lambda title: title.split(':')[0])"
   ]
  },
  {
   "cell_type": "code",
   "execution_count": 41,
   "metadata": {},
   "outputs": [
    {
     "data": {
      "text/plain": [
       "0            EMS\n",
       "1            EMS\n",
       "2           Fire\n",
       "3            EMS\n",
       "4            EMS\n",
       "5            EMS\n",
       "6            EMS\n",
       "7            EMS\n",
       "8            EMS\n",
       "9        Traffic\n",
       "10       Traffic\n",
       "11       Traffic\n",
       "12       Traffic\n",
       "13       Traffic\n",
       "14       Traffic\n",
       "15       Traffic\n",
       "16           EMS\n",
       "17           EMS\n",
       "18           EMS\n",
       "19       Traffic\n",
       "20       Traffic\n",
       "21       Traffic\n",
       "22          Fire\n",
       "23       Traffic\n",
       "24       Traffic\n",
       "25           EMS\n",
       "26           EMS\n",
       "27          Fire\n",
       "28       Traffic\n",
       "29       Traffic\n",
       "          ...   \n",
       "99462        EMS\n",
       "99463        EMS\n",
       "99464        EMS\n",
       "99465        EMS\n",
       "99466        EMS\n",
       "99467        EMS\n",
       "99468       Fire\n",
       "99469       Fire\n",
       "99470        EMS\n",
       "99471        EMS\n",
       "99472        EMS\n",
       "99473        EMS\n",
       "99474        EMS\n",
       "99475    Traffic\n",
       "99476        EMS\n",
       "99477        EMS\n",
       "99478    Traffic\n",
       "99479        EMS\n",
       "99480        EMS\n",
       "99481        EMS\n",
       "99482    Traffic\n",
       "99483        EMS\n",
       "99484       Fire\n",
       "99485    Traffic\n",
       "99486    Traffic\n",
       "99487    Traffic\n",
       "99488    Traffic\n",
       "99489        EMS\n",
       "99490        EMS\n",
       "99491    Traffic\n",
       "Name: Reason, Length: 99492, dtype: object"
      ]
     },
     "execution_count": 41,
     "metadata": {},
     "output_type": "execute_result"
    }
   ],
   "source": [
    "df.Reason"
   ]
  },
  {
   "cell_type": "markdown",
   "metadata": {},
   "source": [
    "** What is the most common Reason for a 911 call based off of this new column? **"
   ]
  },
  {
   "cell_type": "code",
   "execution_count": 40,
   "metadata": {},
   "outputs": [
    {
     "data": {
      "text/plain": [
       "EMS        48877\n",
       "Traffic    35695\n",
       "Fire       14920\n",
       "Name: Reason, dtype: int64"
      ]
     },
     "execution_count": 40,
     "metadata": {},
     "output_type": "execute_result"
    }
   ],
   "source": [
    "df['Reason'].value_counts()"
   ]
  },
  {
   "cell_type": "code",
   "execution_count": 138,
   "metadata": {},
   "outputs": [
    {
     "data": {
      "text/plain": [
       "EMS        48877\n",
       "Traffic    35695\n",
       "Fire       14920\n",
       "Name: Reason, dtype: int64"
      ]
     },
     "execution_count": 138,
     "metadata": {},
     "output_type": "execute_result"
    }
   ],
   "source": []
  },
  {
   "cell_type": "markdown",
   "metadata": {},
   "source": [
    "** Now use seaborn to create a countplot of 911 calls by Reason. **"
   ]
  },
  {
   "cell_type": "code",
   "execution_count": 46,
   "metadata": {},
   "outputs": [
    {
     "data": {
      "image/png": "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\n",
      "text/plain": [
       "<Figure size 432x288 with 1 Axes>"
      ]
     },
     "metadata": {},
     "output_type": "display_data"
    }
   ],
   "source": [
    "sns.countplot(x='Reason', data=df)\n",
    "sns.set_style('darkgrid')"
   ]
  },
  {
   "cell_type": "code",
   "execution_count": 139,
   "metadata": {},
   "outputs": [
    {
     "data": {
      "text/plain": [
       "<matplotlib.axes._subplots.AxesSubplot at 0x12d3830b8>"
      ]
     },
     "execution_count": 139,
     "metadata": {},
     "output_type": "execute_result"
    },
    {
     "data": {
      "image/png": "iVBORw0KGgoAAAANSUhEUgAAAY8AAAERCAYAAACD9ivUAAAABHNCSVQICAgIfAhkiAAAAAlwSFlz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\n",
      "text/plain": [
       "<matplotlib.figure.Figure at 0x12f62fac8>"
      ]
     },
     "metadata": {},
     "output_type": "display_data"
    }
   ],
   "source": []
  },
  {
   "cell_type": "markdown",
   "metadata": {},
   "source": [
    "___\n",
    "** Now let us begin to focus on time information. What is the data type of the objects in the timeStamp column? **"
   ]
  },
  {
   "cell_type": "code",
   "execution_count": 52,
   "metadata": {},
   "outputs": [
    {
     "data": {
      "text/plain": [
       "str"
      ]
     },
     "execution_count": 52,
     "metadata": {},
     "output_type": "execute_result"
    }
   ],
   "source": [
    "type(df['timeStamp'].iloc[0])"
   ]
  },
  {
   "cell_type": "code",
   "execution_count": 140,
   "metadata": {},
   "outputs": [
    {
     "data": {
      "text/plain": [
       "str"
      ]
     },
     "execution_count": 140,
     "metadata": {},
     "output_type": "execute_result"
    }
   ],
   "source": []
  },
  {
   "cell_type": "markdown",
   "metadata": {},
   "source": [
    "** You should have seen that these timestamps are still strings. Use [pd.to_datetime](http://pandas.pydata.org/pandas-docs/stable/generated/pandas.to_datetime.html) to convert the column from strings to DateTime objects. **"
   ]
  },
  {
   "cell_type": "code",
   "execution_count": 56,
   "metadata": {},
   "outputs": [],
   "source": [
    "df['timeStamp'] = pd.to_datetime(df['timeStamp'])"
   ]
  },
  {
   "cell_type": "code",
   "execution_count": 184,
   "metadata": {
    "collapsed": true
   },
   "outputs": [],
   "source": []
  },
  {
   "cell_type": "markdown",
   "metadata": {},
   "source": [
    "** You can now grab specific attributes from a Datetime object by calling them. For example:**\n",
    "\n",
    "    time = df['timeStamp'].iloc[0]\n",
    "    time.hour\n",
    "\n",
    "**You can use Jupyter's tab method to explore the various attributes you can call. Now that the timestamp column are actually DateTime objects, use .apply() to create 3 new columns called Hour, Month, and Day of Week. You will create these columns based off of the timeStamp column, reference the solutions if you get stuck on this step.**"
   ]
  },
  {
   "cell_type": "code",
   "execution_count": 59,
   "metadata": {},
   "outputs": [],
   "source": [
    "df['Hour'] = df['timeStamp'].apply(lambda time: time.hour)\n",
    "df['Month'] = df['timeStamp'].apply(lambda time: time.month)\n",
    "df['Day of Week'] = df['timeStamp'].apply(lambda time: time.dayofweek)"
   ]
  },
  {
   "cell_type": "code",
   "execution_count": 142,
   "metadata": {},
   "outputs": [],
   "source": []
  },
  {
   "cell_type": "markdown",
   "metadata": {},
   "source": [
    "** Notice how the Day of Week is an integer 0-6. Use the .map() with this dictionary to map the actual string names to the day of the week: **\n",
    "\n",
    "    dmap = {0:'Mon',1:'Tue',2:'Wed',3:'Thu',4:'Fri',5:'Sat',6:'Sun'}"
   ]
  },
  {
   "cell_type": "code",
   "execution_count": 62,
   "metadata": {},
   "outputs": [],
   "source": [
    "dmap = {0:'Mon',1:'Tue',2:'Wed',3:'Thu',4:'Fri',5:'Sat',6:'Sun'}"
   ]
  },
  {
   "cell_type": "code",
   "execution_count": 64,
   "metadata": {},
   "outputs": [],
   "source": [
    "df['Day of Week'] = df['Day of Week'].map(dmap)"
   ]
  },
  {
   "cell_type": "markdown",
   "metadata": {},
   "source": [
    "** Now use seaborn to create a countplot of the Day of Week column with the hue based off of the Reason column. **"
   ]
  },
  {
   "cell_type": "code",
   "execution_count": 70,
   "metadata": {},
   "outputs": [
    {
     "data": {
      "text/plain": [
       "<matplotlib.legend.Legend at 0xc132690>"
      ]
     },
     "execution_count": 70,
     "metadata": {},
     "output_type": "execute_result"
    },
    {
     "data": {
      "image/png": "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\n",
      "text/plain": [
       "<Figure size 432x288 with 1 Axes>"
      ]
     },
     "metadata": {},
     "output_type": "display_data"
    }
   ],
   "source": [
    "sns.countplot(x='Day of Week', hue='Reason', data=df, palette='viridis')\n",
    "plt.legend(bbox_to_anchor=(1.05, 1), loc=2, borderaxespad=0)"
   ]
  },
  {
   "cell_type": "code",
   "execution_count": 168,
   "metadata": {},
   "outputs": [
    {
     "data": {
      "text/plain": [
       "<matplotlib.legend.Legend at 0x12f614048>"
      ]
     },
     "execution_count": 168,
     "metadata": {},
     "output_type": "execute_result"
    },
    {
     "data": {
      "image/png": "iVBORw0KGgoAAAANSUhEUgAAAdoAAAERCAYAAADcy2bYAAAABHNCSVQICAgIfAhkiAAAAAlwSFlz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\n",
      "text/plain": [
       "<matplotlib.figure.Figure at 0x12f6100b8>"
      ]
     },
     "metadata": {},
     "output_type": "display_data"
    }
   ],
   "source": []
  },
  {
   "cell_type": "markdown",
   "metadata": {},
   "source": [
    "**Now do the same for Month:**"
   ]
  },
  {
   "cell_type": "code",
   "execution_count": 71,
   "metadata": {},
   "outputs": [
    {
     "data": {
      "text/plain": [
       "<matplotlib.legend.Legend at 0xc187770>"
      ]
     },
     "execution_count": 71,
     "metadata": {},
     "output_type": "execute_result"
    },
    {
     "data": {
      "image/png": "iVBORw0KGgoAAAANSUhEUgAAAdQAAAEBCAYAAADB1FTwAAAABHNCSVQICAgIfAhkiAAAAAlwSFlzAAALEgAACxIB0t1+/AAAADl0RVh0U29mdHdhcmUAbWF0cGxvdGxpYiB2ZXJzaW9uIDIuMi4yLCBodHRwOi8vbWF0cGxvdGxpYi5vcmcvhp/UCwAAHkxJREFUeJzt3X1UlGXi//HPDQgGAyKJe3IFF9J2NXNdY6XdRc0yadtjmqloHt1Wt866iuHZEiQBzQf0qLip62PrqfCpNCrrtLU+E2LocTOLNUtTS0HXEo8MIiIzvz/8Md8Q1KGucQZ9v/5irrnmms8chQ/Xfc/cWE6n0ykAAPCj+Hk7AAAANwMKFQAAAyhUAAAMoFABADCAQgUAwAAKFQAAAwK8HeCHOn263NsRAKDJiYwM9XaEmxY7VAAADKBQAQAwgEIFAMCAJnsOFQDgfX2TXjC63r9fy7zunKKiIqWkpKh9+/ausZYtWyo4OFibN29WYWGhAgMDJUnFxcUaOHCgXn31VcXHx2v58uUqLCyUn5+fLMvShAkT1LlzZyPZKVQAQJNz3333af78+XXG0tLSFBkZqfz8fPXp00eS9M477ygqKkqSdOjQIW3dulVr166VZVk6cOCAUlNTtXHjRiOZOOQLALhp/OEPf9C7774rSXI4HCouLtY999wjSYqIiFBJSYk2bNigU6dOqWPHjtqwYYOx52aHCgBocj766CONGDHCdbtXr16SpC5dumjTpk06f/689u3bp/j4eB0+fFjS5UJdsmSJVq1apX/84x9q3ry5JkyYoMTERCOZKFQAQJNztUO+kvTAAw9oy5YtKiws1JgxY1zzjh07JpvNpuzsbEnSp59+qqefflrx8fEKDw//0Zk8VqjLli3T1q1bVV1drWHDhql79+5KS0uTZVnq0KGDsrKy5Ofnp0WLFmn79u0KCAhQenq6unTpomPHjjU4FwCA6+nXr59mzJghy7IUHR3tGj948KDWrl2rpUuXKigoSDExMQoNDZW/v7+R5/VIoRYVFenjjz/W2rVrVVlZqZUrVyo7O1spKSmKj49XZmamtmzZojZt2mj37t1av369SktLlZycrDfeeKPBuQ899NA1n3P4uPnXvF+SVi+aYOolAgC86MpDvpJ0++23S5JiY2NVVlamxx9/vM79ffv21eHDhzV48GAFBwfL6XRq4sSJCg01c/Uoy+l0Oo2s9D3z5s2TZVn68ssvZbfbNXHiRP31r39Vfn6+LMvS5s2btXPnTsXExOjChQt6+umnJUkDBgzQypUr1b9//3pzs7Ky6jzHlZcepFAB73Dne0/i+89XcOlBz/HIDrWsrEwlJSVaunSpjh8/rjFjxsjpdMqyLElSSEiIysvLZbfb6xy3rh1vaO6VbLYgBQQ0bpseHh78I14VgB+D7z/c7DxSqOHh4YqNjVVgYKBiY2MVFBSkkydPuu6vqKhQWFiYbDabKioq6oyHhobWOV9aO/dKdntVo3OdPXu+0Y8BYAbff76BHarneOSdPvfee68+/PBDOZ1OnTp1SpWVlfrNb36joqIiSVJ+fr7i4uLUrVs3FRQUyOFwqKSkRA6HQxEREerUqVO9uQAA+DKP7FB79+6tPXv2aNCgQXI6ncrMzFTbtm2VkZGhnJwcxcbGKjExUf7+/oqLi1NSUpIcDocyMy9fcio1NbXeXAAAfJlH3pR0I/CmJMA38KakpoVDvp7DhzsBADCAKyXdYthNADCp6/QpRtfbN/n66x0/flyPPvqo7r77btdYfHy8JGncuHFG8zQGhQoAaHLat2+v3Nxcb8eog0IFADR5RUVFWrdunebPn6/evXsrNjZWsbGxGjVqlDIyMlRVVaWgoCBNmzZNd9xxh0cyUKhAAzg0Dvi2Q4cO1bn04ODBg11fl5aWKi8vTy1btlRKSopGjBihXr16adeuXZo7d67mzZvnkUwUKtCE8G524LIrD/nWXrtAklq2bKmWLVtKkr744gstW7ZML730kpxOp5o1a+axTBQqvI7dIACTvn+1vdrDvt26ddPhw4e1Z88ejz0vhQoAuGmlpqZqypQpqqqq0oULF/T888977LkoVADAD+bOx1xMa9u2rV5//fU6Y/Hx8a6PzuzcudM1HhUVpX/+8583JBcXdgAAwAAKFQAAAyhUAAAMoFABADCAQgUAwAAKFQAAA/jYjAdxwQIAN7vkLc8YXW/hgy9ed86sWbNUXFys06dP68KFC4qKilLLli21YMGC6z524sSJOnr0qGbMmKFZs2bp/PnzSkxMVFRUlB588MEflZ1CBQA0KWlpaZKkvLw8ffXVV3r22WfdfmxBQYEKCwt18uRJlZWVKS8vz1guChUA0OQVFRVp7ty5atasmYYMGaLmzZtr9erVrvtffPFFLViwQOfOndOYMWN06dIlHT16VJmZmYqMjFSrVq2UlJSk6dOna//+/aqurlZycrL69OnjdgbOoQIAbgpVVVVas2aNBgwYoKNHj2r58uXKzc1VTEyMCgoKNGXKFLVo0UJLlixRVlaW2rdvrxdeeMH1+C1btqisrEwbNmzQSy+9pE8//bRRz88OFQBwU4iJiXF9ffvttys1NVUhISH66quv1LVr1+s+/siRI655kZGRmjChce9vYYcKALgp1P6VmfLyci1YsEDz58/X9OnTFRQUJKfTed3Hx8bGunal5eXlGj16dKOenx1qA17YP9mteZldpns4CQCgsWw2m7p166bHHntMwcHBCgsL0//+97/rPu7BBx/Url27NGzYMNXU1Gjs2LGNel4KFQDwg7nzMRdPGThwoOvr7/+1Gcuy9OKLDeeq/Us03/+LNcnJya77MzIyfnAeDvkCAGAAhQoAgAEUKgAABnjsHOqAAQMUGhoq6fKx6qSkJM2YMUP+/v5KSEjQuHHj5HA4NGXKFB08eFCBgYGaPn262rVrp3379tWbCwCAL/NIoVZVVUmScnNzXWP9+/fXwoULFRUVpaefflrFxcU6ceKELl68qNdee0379u3TrFmzXB+4vXLu3Xff7YmoAAAY4ZFC/fzzz1VZWalRo0bp0qVLSk5O1sWLFxUdHS1JSkhI0K5du3T69Gn16NFDktS1a1d99tlnstvtDc6lUAEAvswjhdq8eXONHj1agwcP1tGjR/XUU08pLCzMdX9ISIi++eYb2e122Ww217i/v3+9sdq5AAD4Mo8UakxMjNq1ayfLshQTE6PQ0FCdPXvWdX9FRYXCwsJ04cIFVVRUuMYdDodsNludsdq5V7LZghQQ4N+oXOHhwT/g1Xh+PdO5TCCTe8jkPl/NBZjikULdsGGDvvjiC02ZMkWnTp1SZWWlgoOD9fXXXysqKkoFBQUaN26cTp48qW3btumRRx7Rvn37dNddd8lms6lZs2b15l7Jbq9qdK6zZ8+beHnG1zOdywQyuYdM7vPVXLeayMhQb0e4aXmkUAcNGqRJkyZp2LBhsixLM2fOlJ+fn5599lnV1NQoISFBv/zlL3XPPfdo586dGjp0qJxOp2bOnClJmjp1ar25AAD4Mo8UamBgoObNm1dvvPYyT7X8/Pzq/OmcWl27dq03FwAAX8aFHQAAMIBCBQDAAAoVAAADKFQAAAygUAEAMIBCBQDAAAoVAAADKFQAAAygUAEAMIBCBQDAAAoVAAADKFQAAAzwyMXxAcCbho+b79a81YsmeDgJbiXsUAEAMIBCBQDAAAoVAAADKFQAAAygUAEAMIBCBQDAAAoVAAAD+BwqcIt6Yf9kt+Zldpnu4STAzYEdKgAABlCoAAAYwCHfJoRDdLgV8P8cTRU7VAAADKBQAQAwgEO+wA3AYUzg5uexHep3332nXr166fDhwzp27JiGDRumJ554QllZWXI4HJKkRYsWadCgQRo6dKj2798vSVedCwCAL/NIoVZXVyszM1PNmzeXJGVnZyslJUVr1qyR0+nUli1bVFxcrN27d2v9+vXKycnR1KlTrzoXAABf55FCnT17toYOHarWrVtLkoqLi9W9e3dJUs+ePVVYWKi9e/cqISFBlmWpTZs2qqmp0ZkzZxqcCwCArzN+DjUvL08RERHq0aOHli9fLklyOp2yLEuSFBISovLyctntdoWHh7seVzve0NyG2GxBCgjwb1S28PDgH/KSPL6eL+YyncmEWyGTL/7b8f8ccI/xQn3jjTdkWZZ27dqlAwcOKDU1VWfOnHHdX1FRobCwMNlsNlVUVNQZDw0NlZ+fX725DbHbqxqd7ezZ841+zI1Yzxdzmc5kwq2QyRf/7fh/fnOJjAz1doSblvFCXb16tevrESNGaMqUKZozZ46KiooUHx+v/Px83XfffYqOjtacOXM0evRonTx5Ug6HQxEREerUqVO9uUBj8I5aAN5wQz42k5qaqoyMDOXk5Cg2NlaJiYny9/dXXFyckpKS5HA4lJmZedW5ANDUDR833615qxdN8HASeIpHCzU3N9f19apVq+rdn5ycrOTk5DpjMTExDc4FAMCXcaUkAAAMoFABADCAQgUAwAAKFQAAAyhUAAAMoFABADCAP9+GH4WLKADAZexQAQAwgEIFAMAAChUAAAMoVAAADKBQAQAwwK1CXb9+fZ3br776qkfCAADQVF3zYzPvvvuutm7dqqKiIn300UeSpJqaGn355ZcaOXLkDQkIAEBTcM1C7dGjhyIjI3X27FklJSVJkvz8/BQVFXVDwgEA0FRcs1BbtGih+Ph4xcfH67vvvlNVVZWky7tUAADwf9y6UtLUqVO1Y8cOtW7dWk6nU5Zlad26dZ7OBgBAk+FWoX7yySfavHmz/Px4UzAAAA1xqyHbtWvnOtwLAADqc2uHWlpaqt69e6tdu3aSxCFfAACu4Fahzps3z9M5AABo0twq1DfffLPe2Lhx44yHAQCgqXKrUFu1aiVJcjqd+u9//yuHw+HRUAAANDVuFerQoUPr3P7zn//skTAAADRVbhXqkSNHXF+fPn1apaWlHgsEAEBT5FahZmZmur4OCgrSxIkTPRYIAICmyK1Czc3NVVlZmb755hu1bdtWERER15xfU1OjyZMn68iRI/L391d2dracTqfS0tJkWZY6dOigrKws+fn5adGiRdq+fbsCAgKUnp6uLl266NixYw3OBQBveGH/ZLfmZXaZ7uEk8GVutdS//vUvDR06VEuXLlVSUpLefvvta87ftm2bJGndunUaP368srOzlZ2drZSUFK1Zs0ZOp1NbtmxRcXGxdu/erfXr1ysnJ0dTp06VpAbnAgDgy9zaob788svKy8tTSEiI7Ha7/vjHP6p///5Xnd+nTx/df//9kqSSkhK1atVK27dvV/fu3SVJPXv21M6dOxUTE6OEhARZlqU2bdqopqZGZ86cUXFxcb25Dz300I98qQAAeI5bhWpZlkJCQiRJNptNQUFB1184IECpqanatGmTFixYoG3btsmyLElSSEiIysvLZbfbFR4e7npM7XjtBfi/P3Ylmy1IAQH+7sR3CQ8PbtT8G7WeL+Yi041bw/R6vpjJ5Dom17sVMuHGcatQo6OjNWvWLMXFxWnv3r2Kjo52a/HZs2fr2Wef1ZAhQ+pcC7iiokJhYWGy2WyqqKioMx4aGlrnfGnt3CvZ7Y2/tvDZs+cb/ZgbsZ4v5iLTjVvD9Hq+mMnkOibXa8qZfuh53cjI0EZngnvcOoc6ZMgQtWjRQoWFhcrLy9Pw4cOvOf+tt97SsmXLJEm33XabLMtS586dVVRUJEnKz89XXFycunXrpoKCAjkcDpWUlMjhcCgiIkKdOnWqNxcAAF/m1g511qxZmjVrltq3b68//elPSktL0+rVq686v2/fvpo0aZKGDx+uS5cuKT09XXfeeacyMjKUk5Oj2NhYJSYmyt/fX3FxcUpKSpLD4XB9PCc1NbXeXAAAfJlbhRoQEKD27dtLkqKioq77EZbg4GC9+OKL9cZXrVpVbyw5OVnJycl1xmJiYhqcCwCAr3KrUNu0aaOcnBx17dpV+/fvV+vWrT2dCwCAJsWtc6jZ2dmKiIjQjh07FBERoezsbE/nAgCgSXFrhxoUFKQnn3zSw1EAAGi6uJ4fAAAGUKgAABhAoQIAYACFCgCAARQqAAAGUKgAABhAoQIAYACFCgCAARQqAAAGUKgAABhAoQIAYACFCgCAARQqAAAGUKgAABhAoQIAYACFCgCAARQqAAAGUKgAABhAoQIAYACFCgCAARQqAAAGUKgAABhAoQIAYECA6QWrq6uVnp6uEydO6OLFixozZozat2+vtLQ0WZalDh06KCsrS35+flq0aJG2b9+ugIAApaenq0uXLjp27FiDcwEA8GXGm2rjxo0KDw/XmjVrtGLFCk2bNk3Z2dlKSUnRmjVr5HQ6tWXLFhUXF2v37t1av369cnJyNHXqVElqcC4AAL7OeKE+/PDDeuaZZ1y3/f39VVxcrO7du0uSevbsqcLCQu3du1cJCQmyLEtt2rRRTU2Nzpw50+BcAAB8nfFDviEhIZIku92u8ePHKyUlRbNnz5ZlWa77y8vLZbfbFR4eXudx5eXlcjqd9eY2xGYLUkCAf6OyhYcH/5CX5PH1fDEXmW7cGqbX88VMJtcxuR6ZYJLxQpWk0tJSjR07Vk888YT69eunOXPmuO6rqKhQWFiYbDabKioq6oyHhobWOV9aO7chdntVo3OdPXu+0Y+5Eev5Yi4y3bg1TK/ni5lMrmNyvVsxU2RkqNH18X+MH/L99ttvNWrUKD333HMaNGiQJKlTp04qKiqSJOXn5ysuLk7dunVTQUGBHA6HSkpK5HA4FBER0eBcAAB8nfEd6tKlS3Xu3DktXrxYixcvliQ9//zzmj59unJychQbG6vExET5+/srLi5OSUlJcjgcyszMlCSlpqYqIyOjzlxTHlo2z615PX5j7CkB/H98/+FmZ7xQJ0+erMmTJ9cbX7VqVb2x5ORkJScn1xmLiYlpcO7NjB80AND08QFPAAAMoFABADDAI+/yBeA9nEIAvIMdKgAABlCoAAAYwCFfNBkcygTgy9ihAgBgAIUKAIABFCoAAAZwDhUN4nwlADQOhQr8CPziAaAWh3wBADCAQgUAwAAO+QK4ZXHIHiaxQwUAwAAKFQAAAyhUAAAMoFABADCAQgUAwAAKFQAAAyhUAAAMoFABADCAQgUAwAAKFQAAAyhUAAAMoFABADDAYxfH/+STTzR37lzl5ubq2LFjSktLk2VZ6tChg7KysuTn56dFixZp+/btCggIUHp6urp06XLVuQBwK+CC/U2XR5pqxYoVmjx5sqqqqiRJ2dnZSklJ0Zo1a+R0OrVlyxYVFxdr9+7dWr9+vXJycjR16tSrzgUAwNd5pFCjo6O1cOFC1+3i4mJ1795dktSzZ08VFhZq7969SkhIkGVZatOmjWpqanTmzJkG5wIA4Os8csg3MTFRx48fd912Op2yLEuSFBISovLyctntdoWHh7vm1I43NLchNluQAgL8PRHfbeHhwV59/qvxxVxkcg+Z3OeLuch0a7shf2D8++dAKyoqFBYWJpvNpoqKijrjoaGhDc5tiN1e5bnAbjp79ry3IzTIF3ORyT1kcp8v5moKmSIjQ72U5OZ3Q97t06lTJxUVFUmS8vPzFRcXp27duqmgoEAOh0MlJSVyOByKiIhocC4AAL7uhuxQU1NTlZGRoZycHMXGxioxMVH+/v6Ki4tTUlKSHA6HMjMzrzoXAABf57FCbdu2rV5//XVJUkxMjFatWlVvTnJyspKTk+uMXW0uAAC+jA94AgBgAIUKAIABFCoAAAZQqAAAGEChAgBgAIUKAIABFCoAAAZQqAAAGEChAgBgAIUKAIABFCoAAAZQqAAAGEChAgBgAIUKAIABFCoAAAZQqAAAGEChAgBgAIUKAIABFCoAAAZQqAAAGEChAgBgAIUKAIABFCoAAAZQqAAAGEChAgBgAIUKAIABAd4O0BCHw6EpU6bo4MGDCgwM1PTp09WuXTtvxwIA4Kp8coe6efNmXbx4Ua+99pr+9re/adasWd6OBADANflkoe7du1c9evSQJHXt2lWfffaZlxMBAHBtltPpdHo7xJWef/559e3bV7169ZIk3X///dq8ebMCAnzyCDUAAL65Q7XZbKqoqHDddjgclCkAwKf5ZKF269ZN+fn5kqR9+/bprrvu8nIiAACuzScP+da+y/eLL76Q0+nUzJkzdeedd3o7FgAAV+WThXojffLJJ5o7d65yc3O9HUXV1dVKT0/XiRMndPHiRY0ZM0YPPvigVzPV1NRo8uTJOnLkiPz9/ZWdna3o6GivZqr13XffaeDAgVq5cqXP/MI1YMAAhYaGSpLatm2r7OxsLyeSli1bpq1bt6q6ulrDhg3T4MGDvZonLy9Pb775piSpqqpKBw4c0M6dOxUWFua1TNXV1UpLS9OJEyfk5+enadOmef3/1Pd/Nh04cEDTpk2Tv7+/AgMDNXv2bLVq1cqr+VDfLX1icsWKFdq4caNuu+02b0eRJG3cuFHh4eGaM2eOysrK9Nhjj3m9ULdt2yZJWrdunYqKipSdna0lS5Z4NZN0+QdgZmammjdv7u0oLlVVVZLkE7+c1SoqKtLHH3+stWvXqrKyUitXrvR2JA0cOFADBw6UJE2dOlWPP/64V8tUknbs2KFLly5p3bp12rlzp/7+979r4cKFXstz5c+mGTNmKCMjQx07dtS6deu0YsUKTZo0yWv50DCfPId6o0RHR3v1m+ZKDz/8sJ555hnXbX9/fy+muaxPnz6aNm2aJKmkpMRnfiuePXu2hg4dqtatW3s7isvnn3+uyspKjRo1SiNHjtS+ffu8HUkFBQW66667NHbsWP3lL3/R/fff7+1ILp9++qkOHTqkpKQkb0dRTEyMampq5HA4ZLfbvf4myCt/NuXk5Khjx46SLh81CgoK8lY0XMMtvUNNTEzU8ePHvR3DJSQkRJJkt9s1fvx4paSkeDnRZQEBAUpNTdWmTZu0YMECb8dRXl6eIiIi1KNHDy1fvtzbcVyaN2+u0aNHa/DgwTp69Kieeuopvf/++1794VxWVqaSkhItXbpUx48f15gxY/T+++/LsiyvZaq1bNkyjR071tsxJEnBwcE6ceKEfv/736usrExLly71ap4rfzbV/uL4n//8R6tWrdLq1au9FQ3XcEvvUH1RaWmpRo4cqf79+6tfv37ejuMye/ZsffDBB8rIyND58+e9muWNN95QYWGhRowYoQMHDig1NVWnT5/2aibp8i7n0UcflWVZiomJUXh4uNdzhYeHKyEhQYGBgYqNjVVQUJDOnDnj1UySdO7cOX311Ve67777vB1FkvTyyy8rISFBH3zwgd5++22lpaW5DuH7ivfee09ZWVlavny5IiIivB0HDaBQfci3336rUaNG6bnnntOgQYO8HUeS9NZbb2nZsmWSpNtuu02WZXn9UPTq1au1atUq5ebmqmPHjpo9e7YiIyO9mkmSNmzY4LpM5qlTp2S3272e695779WHH34op9OpU6dOqbKyUuHh4V7NJEl79uzRb3/7W2/HcAkLC3O9maxFixa6dOmSampqvJzq/7z99tuu//NRUVHejoOruKUP+fqapUuX6ty5c1q8eLEWL14s6fKbE7z5xpu+fftq0qRJGj58uC5duqT09HTO31zFoEGDNGnSJA0bNkyWZWnmzJlePxfXu3dv7dmzR4MGDZLT6VRmZqbXfyGSpCNHjqht27bejuHy5JNPKj09XU888YSqq6s1YcIEBQcHezuWpMvnTGfMmKE77rhDycnJkqRf//rXGj9+vJeT4Uq3/MdmAAAwgUO+AAAYQKECAGAAhQoAgAEUKgAABlCoAAAYQKEC11BUVKSf//zneu+99+qM9+vXT2lpaY1a6+DBg9qzZ48k6YEHHvC5CwcA+HEoVOA6YmNj9e6777puHzx4UJWVlY1e59///rcOHTpkMhoAH8KFHYDr+MUvfqGjR4/q3LlzCgsL08aNG9WvXz+VlpZq48aNeuWVVxQYGKif/exneuGFF/TOO+9ox44dunDhgr7++ms99dRT+t3vfqc333xTzZo109133y1JmjJliut6rYsWLVKLFi28+TIB/EjsUAE3PPTQQ9q0aZOcTqf279+vX/3qVzp79qwWLlyoV155RWvXrlVoaKhee+01SZf/wMGyZcu0ZMkSLV++XD/5yU/02GOP6cknn1SXLl0kSY8//rhyc3P105/+VDt37vTmywNgAIUKuKFfv3567733tGfPHsXFxUmSHA6H2rdvL5vNJuny5eC+/PJLSZd3tZJ0xx136OLFiw2u2blzZ0lSq1atdOHCBU+/BAAeRqECboiKitL58+eVm5urRx99VJJkWZYOHz7s+us7u3fvVkxMjOu+K1mWJYfDUec2gJsHhQq46ZFHHlFpaamrNFu2bKnk5GSNHDlSQ4YMUVlZmYYNG3bVx3fu3FmrV6/WRx99dKMiA7iBuDg+AAAGsEMFAMAAChUAAAMoVAAADKBQAQAwgEIFAMAAChUAAAMoVAAADKBQAQAw4P8B1WRb9uUvhZsAAAAASUVORK5CYII=\n",
      "text/plain": [
       "<Figure size 432x288 with 1 Axes>"
      ]
     },
     "metadata": {},
     "output_type": "display_data"
    }
   ],
   "source": [
    "sns.countplot(x='Month', hue='Reason', data=df, palette='viridis')\n",
    "plt.legend(bbox_to_anchor=(1.05, 1), loc=2, borderaxespad=0)"
   ]
  },
  {
   "cell_type": "code",
   "execution_count": 3,
   "metadata": {},
   "outputs": [
    {
     "data": {
      "text/plain": [
       "<matplotlib.legend.Legend at 0x10330ada0>"
      ]
     },
     "execution_count": 3,
     "metadata": {},
     "output_type": "execute_result"
    },
    {
     "data": {
      "image/png": "iVBORw0KGgoAAAANSUhEUgAAAdoAAAERCAYAAADcy2bYAAAABHNCSVQICAgIfAhkiAAAAAlwSFlz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\nYEO7LC7vVAAAAABJRU5ErkJggg==\n",
      "text/plain": [
       "<matplotlib.figure.Figure at 0x11ef16780>"
      ]
     },
     "metadata": {},
     "output_type": "display_data"
    }
   ],
   "source": []
  },
  {
   "cell_type": "markdown",
   "metadata": {},
   "source": [
    "**Did you notice something strange about the Plot?**\n",
    "\n",
    "_____\n",
    "\n",
    "** You should have noticed it was missing some Months, let's see if we can maybe fill in this information by plotting the information in another way, possibly a simple line plot that fills in the missing months, in order to do this, we'll need to do some work with pandas... **"
   ]
  },
  {
   "cell_type": "markdown",
   "metadata": {},
   "source": [
    "** Now create a gropuby object called byMonth, where you group the DataFrame by the month column and use the count() method for aggregation. Use the head() method on this returned DataFrame. **"
   ]
  },
  {
   "cell_type": "code",
   "execution_count": 74,
   "metadata": {},
   "outputs": [
    {
     "data": {
      "text/html": [
       "<div>\n",
       "<style scoped>\n",
       "    .dataframe tbody tr th:only-of-type {\n",
       "        vertical-align: middle;\n",
       "    }\n",
       "\n",
       "    .dataframe tbody tr th {\n",
       "        vertical-align: top;\n",
       "    }\n",
       "\n",
       "    .dataframe thead th {\n",
       "        text-align: right;\n",
       "    }\n",
       "</style>\n",
       "<table border=\"1\" class=\"dataframe\">\n",
       "  <thead>\n",
       "    <tr style=\"text-align: right;\">\n",
       "      <th></th>\n",
       "      <th>lat</th>\n",
       "      <th>lng</th>\n",
       "      <th>desc</th>\n",
       "      <th>zip</th>\n",
       "      <th>title</th>\n",
       "      <th>timeStamp</th>\n",
       "      <th>twp</th>\n",
       "      <th>addr</th>\n",
       "      <th>e</th>\n",
       "      <th>Reason</th>\n",
       "      <th>Hour</th>\n",
       "      <th>Day of Week</th>\n",
       "    </tr>\n",
       "    <tr>\n",
       "      <th>Month</th>\n",
       "      <th></th>\n",
       "      <th></th>\n",
       "      <th></th>\n",
       "      <th></th>\n",
       "      <th></th>\n",
       "      <th></th>\n",
       "      <th></th>\n",
       "      <th></th>\n",
       "      <th></th>\n",
       "      <th></th>\n",
       "      <th></th>\n",
       "      <th></th>\n",
       "    </tr>\n",
       "  </thead>\n",
       "  <tbody>\n",
       "    <tr>\n",
       "      <th>1</th>\n",
       "      <td>13205</td>\n",
       "      <td>13205</td>\n",
       "      <td>13205</td>\n",
       "      <td>11527</td>\n",
       "      <td>13205</td>\n",
       "      <td>13205</td>\n",
       "      <td>13203</td>\n",
       "      <td>13096</td>\n",
       "      <td>13205</td>\n",
       "      <td>13205</td>\n",
       "      <td>13205</td>\n",
       "      <td>13205</td>\n",
       "    </tr>\n",
       "    <tr>\n",
       "      <th>2</th>\n",
       "      <td>11467</td>\n",
       "      <td>11467</td>\n",
       "      <td>11467</td>\n",
       "      <td>9930</td>\n",
       "      <td>11467</td>\n",
       "      <td>11467</td>\n",
       "      <td>11465</td>\n",
       "      <td>11396</td>\n",
       "      <td>11467</td>\n",
       "      <td>11467</td>\n",
       "      <td>11467</td>\n",
       "      <td>11467</td>\n",
       "    </tr>\n",
       "    <tr>\n",
       "      <th>3</th>\n",
       "      <td>11101</td>\n",
       "      <td>11101</td>\n",
       "      <td>11101</td>\n",
       "      <td>9755</td>\n",
       "      <td>11101</td>\n",
       "      <td>11101</td>\n",
       "      <td>11092</td>\n",
       "      <td>11059</td>\n",
       "      <td>11101</td>\n",
       "      <td>11101</td>\n",
       "      <td>11101</td>\n",
       "      <td>11101</td>\n",
       "    </tr>\n",
       "    <tr>\n",
       "      <th>4</th>\n",
       "      <td>11326</td>\n",
       "      <td>11326</td>\n",
       "      <td>11326</td>\n",
       "      <td>9895</td>\n",
       "      <td>11326</td>\n",
       "      <td>11326</td>\n",
       "      <td>11323</td>\n",
       "      <td>11283</td>\n",
       "      <td>11326</td>\n",
       "      <td>11326</td>\n",
       "      <td>11326</td>\n",
       "      <td>11326</td>\n",
       "    </tr>\n",
       "    <tr>\n",
       "      <th>5</th>\n",
       "      <td>11423</td>\n",
       "      <td>11423</td>\n",
       "      <td>11423</td>\n",
       "      <td>9946</td>\n",
       "      <td>11423</td>\n",
       "      <td>11423</td>\n",
       "      <td>11420</td>\n",
       "      <td>11378</td>\n",
       "      <td>11423</td>\n",
       "      <td>11423</td>\n",
       "      <td>11423</td>\n",
       "      <td>11423</td>\n",
       "    </tr>\n",
       "  </tbody>\n",
       "</table>\n",
       "</div>"
      ],
      "text/plain": [
       "         lat    lng   desc    zip  title  timeStamp    twp   addr      e  \\\n",
       "Month                                                                      \n",
       "1      13205  13205  13205  11527  13205      13205  13203  13096  13205   \n",
       "2      11467  11467  11467   9930  11467      11467  11465  11396  11467   \n",
       "3      11101  11101  11101   9755  11101      11101  11092  11059  11101   \n",
       "4      11326  11326  11326   9895  11326      11326  11323  11283  11326   \n",
       "5      11423  11423  11423   9946  11423      11423  11420  11378  11423   \n",
       "\n",
       "       Reason   Hour  Day of Week  \n",
       "Month                              \n",
       "1       13205  13205        13205  \n",
       "2       11467  11467        11467  \n",
       "3       11101  11101        11101  \n",
       "4       11326  11326        11326  \n",
       "5       11423  11423        11423  "
      ]
     },
     "execution_count": 74,
     "metadata": {},
     "output_type": "execute_result"
    }
   ],
   "source": [
    "byMonth=df.groupby('Month').count()\n",
    "byMonth.head()"
   ]
  },
  {
   "cell_type": "code",
   "execution_count": 169,
   "metadata": {},
   "outputs": [
    {
     "data": {
      "text/html": [
       "<div>\n",
       "<table border=\"1\" class=\"dataframe\">\n",
       "  <thead>\n",
       "    <tr style=\"text-align: right;\">\n",
       "      <th></th>\n",
       "      <th>lat</th>\n",
       "      <th>lng</th>\n",
       "      <th>desc</th>\n",
       "      <th>zip</th>\n",
       "      <th>title</th>\n",
       "      <th>timeStamp</th>\n",
       "      <th>twp</th>\n",
       "      <th>addr</th>\n",
       "      <th>e</th>\n",
       "      <th>Reason</th>\n",
       "      <th>Hour</th>\n",
       "      <th>Day of Week</th>\n",
       "    </tr>\n",
       "    <tr>\n",
       "      <th>Month</th>\n",
       "      <th></th>\n",
       "      <th></th>\n",
       "      <th></th>\n",
       "      <th></th>\n",
       "      <th></th>\n",
       "      <th></th>\n",
       "      <th></th>\n",
       "      <th></th>\n",
       "      <th></th>\n",
       "      <th></th>\n",
       "      <th></th>\n",
       "      <th></th>\n",
       "    </tr>\n",
       "  </thead>\n",
       "  <tbody>\n",
       "    <tr>\n",
       "      <th>1</th>\n",
       "      <td>13205</td>\n",
       "      <td>13205</td>\n",
       "      <td>13205</td>\n",
       "      <td>11527</td>\n",
       "      <td>13205</td>\n",
       "      <td>13205</td>\n",
       "      <td>13203</td>\n",
       "      <td>13096</td>\n",
       "      <td>13205</td>\n",
       "      <td>13205</td>\n",
       "      <td>13205</td>\n",
       "      <td>13205</td>\n",
       "    </tr>\n",
       "    <tr>\n",
       "      <th>2</th>\n",
       "      <td>11467</td>\n",
       "      <td>11467</td>\n",
       "      <td>11467</td>\n",
       "      <td>9930</td>\n",
       "      <td>11467</td>\n",
       "      <td>11467</td>\n",
       "      <td>11465</td>\n",
       "      <td>11396</td>\n",
       "      <td>11467</td>\n",
       "      <td>11467</td>\n",
       "      <td>11467</td>\n",
       "      <td>11467</td>\n",
       "    </tr>\n",
       "    <tr>\n",
       "      <th>3</th>\n",
       "      <td>11101</td>\n",
       "      <td>11101</td>\n",
       "      <td>11101</td>\n",
       "      <td>9755</td>\n",
       "      <td>11101</td>\n",
       "      <td>11101</td>\n",
       "      <td>11092</td>\n",
       "      <td>11059</td>\n",
       "      <td>11101</td>\n",
       "      <td>11101</td>\n",
       "      <td>11101</td>\n",
       "      <td>11101</td>\n",
       "    </tr>\n",
       "    <tr>\n",
       "      <th>4</th>\n",
       "      <td>11326</td>\n",
       "      <td>11326</td>\n",
       "      <td>11326</td>\n",
       "      <td>9895</td>\n",
       "      <td>11326</td>\n",
       "      <td>11326</td>\n",
       "      <td>11323</td>\n",
       "      <td>11283</td>\n",
       "      <td>11326</td>\n",
       "      <td>11326</td>\n",
       "      <td>11326</td>\n",
       "      <td>11326</td>\n",
       "    </tr>\n",
       "    <tr>\n",
       "      <th>5</th>\n",
       "      <td>11423</td>\n",
       "      <td>11423</td>\n",
       "      <td>11423</td>\n",
       "      <td>9946</td>\n",
       "      <td>11423</td>\n",
       "      <td>11423</td>\n",
       "      <td>11420</td>\n",
       "      <td>11378</td>\n",
       "      <td>11423</td>\n",
       "      <td>11423</td>\n",
       "      <td>11423</td>\n",
       "      <td>11423</td>\n",
       "    </tr>\n",
       "  </tbody>\n",
       "</table>\n",
       "</div>"
      ],
      "text/plain": [
       "         lat    lng   desc    zip  title  timeStamp    twp   addr      e  \\\n",
       "Month                                                                      \n",
       "1      13205  13205  13205  11527  13205      13205  13203  13096  13205   \n",
       "2      11467  11467  11467   9930  11467      11467  11465  11396  11467   \n",
       "3      11101  11101  11101   9755  11101      11101  11092  11059  11101   \n",
       "4      11326  11326  11326   9895  11326      11326  11323  11283  11326   \n",
       "5      11423  11423  11423   9946  11423      11423  11420  11378  11423   \n",
       "\n",
       "       Reason   Hour  Day of Week  \n",
       "Month                              \n",
       "1       13205  13205        13205  \n",
       "2       11467  11467        11467  \n",
       "3       11101  11101        11101  \n",
       "4       11326  11326        11326  \n",
       "5       11423  11423        11423  "
      ]
     },
     "execution_count": 169,
     "metadata": {},
     "output_type": "execute_result"
    }
   ],
   "source": []
  },
  {
   "cell_type": "markdown",
   "metadata": {},
   "source": [
    "** Now create a simple plot off of the dataframe indicating the count of calls per month. **"
   ]
  },
  {
   "cell_type": "code",
   "execution_count": 77,
   "metadata": {},
   "outputs": [
    {
     "data": {
      "text/plain": [
       "<matplotlib.axes._subplots.AxesSubplot at 0xd22d770>"
      ]
     },
     "execution_count": 77,
     "metadata": {},
     "output_type": "execute_result"
    },
    {
     "data": {
      "image/png": "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\n",
      "text/plain": [
       "<Figure size 432x288 with 1 Axes>"
      ]
     },
     "metadata": {},
     "output_type": "display_data"
    }
   ],
   "source": [
    "byMonth['twp'].plot()"
   ]
  },
  {
   "cell_type": "code",
   "execution_count": 175,
   "metadata": {},
   "outputs": [
    {
     "data": {
      "text/plain": [
       "<matplotlib.axes._subplots.AxesSubplot at 0x133a3c080>"
      ]
     },
     "execution_count": 175,
     "metadata": {},
     "output_type": "execute_result"
    },
    {
     "data": {
      "image/png": "iVBORw0KGgoAAAANSUhEUgAAAYUAAAERCAYAAACU1LsdAAAABHNCSVQICAgIfAhkiAAAAAlwSFlz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\nvgAAAABJRU5ErkJggg==\n",
      "text/plain": [
       "<matplotlib.figure.Figure at 0x133a19390>"
      ]
     },
     "metadata": {},
     "output_type": "display_data"
    }
   ],
   "source": []
  },
  {
   "cell_type": "markdown",
   "metadata": {},
   "source": [
    "** Now see if you can use seaborn's lmplot() to create a linear fit on the number of calls per month. Keep in mind you may need to reset the index to a column. **"
   ]
  },
  {
   "cell_type": "code",
   "execution_count": 81,
   "metadata": {},
   "outputs": [
    {
     "data": {
      "text/plain": [
       "<seaborn.axisgrid.FacetGrid at 0xd2f0150>"
      ]
     },
     "execution_count": 81,
     "metadata": {},
     "output_type": "execute_result"
    },
    {
     "data": {
      "image/png": "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\n",
      "text/plain": [
       "<Figure size 360x360 with 1 Axes>"
      ]
     },
     "metadata": {},
     "output_type": "display_data"
    }
   ],
   "source": [
    "sns.lmplot(x='Month', y='twp', data=byMonth.reset_index())"
   ]
  },
  {
   "cell_type": "code",
   "execution_count": 187,
   "metadata": {},
   "outputs": [
    {
     "data": {
      "text/plain": [
       "<seaborn.axisgrid.FacetGrid at 0x1342acd30>"
      ]
     },
     "execution_count": 187,
     "metadata": {},
     "output_type": "execute_result"
    },
    {
     "data": {
      "image/png": "iVBORw0KGgoAAAANSUhEUgAAAWEAAAFhCAYAAACh/xvXAAAABHNCSVQICAgIfAhkiAAAAAlwSFlz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\nacJCCGGj/wNw1GmPTvAXxQAAAABJRU5ErkJggg==\n",
      "text/plain": [
       "<matplotlib.figure.Figure at 0x1342ac128>"
      ]
     },
     "metadata": {},
     "output_type": "display_data"
    }
   ],
   "source": []
  },
  {
   "cell_type": "markdown",
   "metadata": {},
   "source": [
    "**Create a new column called 'Date' that contains the date from the timeStamp column. You'll need to use apply along with the .date() method. ** "
   ]
  },
  {
   "cell_type": "code",
   "execution_count": 83,
   "metadata": {},
   "outputs": [],
   "source": [
    "df['Date'] = df['timeStamp'].apply(lambda t: t.date())"
   ]
  },
  {
   "cell_type": "code",
   "execution_count": 193,
   "metadata": {
    "collapsed": true
   },
   "outputs": [],
   "source": []
  },
  {
   "cell_type": "markdown",
   "metadata": {},
   "source": [
    "** Now groupby this Date column with the count() aggregate and create a plot of counts of 911 calls.**"
   ]
  },
  {
   "cell_type": "code",
   "execution_count": 85,
   "metadata": {
    "scrolled": true
   },
   "outputs": [
    {
     "data": {
      "text/html": [
       "<div>\n",
       "<style scoped>\n",
       "    .dataframe tbody tr th:only-of-type {\n",
       "        vertical-align: middle;\n",
       "    }\n",
       "\n",
       "    .dataframe tbody tr th {\n",
       "        vertical-align: top;\n",
       "    }\n",
       "\n",
       "    .dataframe thead th {\n",
       "        text-align: right;\n",
       "    }\n",
       "</style>\n",
       "<table border=\"1\" class=\"dataframe\">\n",
       "  <thead>\n",
       "    <tr style=\"text-align: right;\">\n",
       "      <th></th>\n",
       "      <th>lat</th>\n",
       "      <th>lng</th>\n",
       "      <th>desc</th>\n",
       "      <th>zip</th>\n",
       "      <th>title</th>\n",
       "      <th>timeStamp</th>\n",
       "      <th>twp</th>\n",
       "      <th>addr</th>\n",
       "      <th>e</th>\n",
       "      <th>Reason</th>\n",
       "      <th>Hour</th>\n",
       "      <th>Month</th>\n",
       "      <th>Day of Week</th>\n",
       "    </tr>\n",
       "    <tr>\n",
       "      <th>Date</th>\n",
       "      <th></th>\n",
       "      <th></th>\n",
       "      <th></th>\n",
       "      <th></th>\n",
       "      <th></th>\n",
       "      <th></th>\n",
       "      <th></th>\n",
       "      <th></th>\n",
       "      <th></th>\n",
       "      <th></th>\n",
       "      <th></th>\n",
       "      <th></th>\n",
       "      <th></th>\n",
       "    </tr>\n",
       "  </thead>\n",
       "  <tbody>\n",
       "    <tr>\n",
       "      <th>2015-12-10</th>\n",
       "      <td>115</td>\n",
       "      <td>115</td>\n",
       "      <td>115</td>\n",
       "      <td>100</td>\n",
       "      <td>115</td>\n",
       "      <td>115</td>\n",
       "      <td>115</td>\n",
       "      <td>113</td>\n",
       "      <td>115</td>\n",
       "      <td>115</td>\n",
       "      <td>115</td>\n",
       "      <td>115</td>\n",
       "      <td>115</td>\n",
       "    </tr>\n",
       "    <tr>\n",
       "      <th>2015-12-11</th>\n",
       "      <td>396</td>\n",
       "      <td>396</td>\n",
       "      <td>396</td>\n",
       "      <td>333</td>\n",
       "      <td>396</td>\n",
       "      <td>396</td>\n",
       "      <td>395</td>\n",
       "      <td>391</td>\n",
       "      <td>396</td>\n",
       "      <td>396</td>\n",
       "      <td>396</td>\n",
       "      <td>396</td>\n",
       "      <td>396</td>\n",
       "    </tr>\n",
       "    <tr>\n",
       "      <th>2015-12-12</th>\n",
       "      <td>403</td>\n",
       "      <td>403</td>\n",
       "      <td>403</td>\n",
       "      <td>333</td>\n",
       "      <td>403</td>\n",
       "      <td>403</td>\n",
       "      <td>403</td>\n",
       "      <td>401</td>\n",
       "      <td>403</td>\n",
       "      <td>403</td>\n",
       "      <td>403</td>\n",
       "      <td>403</td>\n",
       "      <td>403</td>\n",
       "    </tr>\n",
       "    <tr>\n",
       "      <th>2015-12-13</th>\n",
       "      <td>319</td>\n",
       "      <td>319</td>\n",
       "      <td>319</td>\n",
       "      <td>280</td>\n",
       "      <td>319</td>\n",
       "      <td>319</td>\n",
       "      <td>319</td>\n",
       "      <td>317</td>\n",
       "      <td>319</td>\n",
       "      <td>319</td>\n",
       "      <td>319</td>\n",
       "      <td>319</td>\n",
       "      <td>319</td>\n",
       "    </tr>\n",
       "    <tr>\n",
       "      <th>2015-12-14</th>\n",
       "      <td>447</td>\n",
       "      <td>447</td>\n",
       "      <td>447</td>\n",
       "      <td>387</td>\n",
       "      <td>447</td>\n",
       "      <td>447</td>\n",
       "      <td>446</td>\n",
       "      <td>445</td>\n",
       "      <td>447</td>\n",
       "      <td>447</td>\n",
       "      <td>447</td>\n",
       "      <td>447</td>\n",
       "      <td>447</td>\n",
       "    </tr>\n",
       "  </tbody>\n",
       "</table>\n",
       "</div>"
      ],
      "text/plain": [
       "            lat  lng  desc  zip  title  timeStamp  twp  addr    e  Reason  \\\n",
       "Date                                                                        \n",
       "2015-12-10  115  115   115  100    115        115  115   113  115     115   \n",
       "2015-12-11  396  396   396  333    396        396  395   391  396     396   \n",
       "2015-12-12  403  403   403  333    403        403  403   401  403     403   \n",
       "2015-12-13  319  319   319  280    319        319  319   317  319     319   \n",
       "2015-12-14  447  447   447  387    447        447  446   445  447     447   \n",
       "\n",
       "            Hour  Month  Day of Week  \n",
       "Date                                  \n",
       "2015-12-10   115    115          115  \n",
       "2015-12-11   396    396          396  \n",
       "2015-12-12   403    403          403  \n",
       "2015-12-13   319    319          319  \n",
       "2015-12-14   447    447          447  "
      ]
     },
     "execution_count": 85,
     "metadata": {},
     "output_type": "execute_result"
    }
   ],
   "source": [
    "byDate=df.groupby('Date').count()\n",
    "byDate.head()"
   ]
  },
  {
   "cell_type": "code",
   "execution_count": null,
   "metadata": {},
   "outputs": [],
   "source": []
  },
  {
   "cell_type": "code",
   "execution_count": 89,
   "metadata": {},
   "outputs": [
    {
     "data": {
      "image/png": "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\n",
      "text/plain": [
       "<Figure size 432x288 with 1 Axes>"
      ]
     },
     "metadata": {},
     "output_type": "display_data"
    }
   ],
   "source": [
    "byDate=df.groupby('Date').count()['twp'].plot()\n",
    "plt.tight_layout()"
   ]
  },
  {
   "cell_type": "markdown",
   "metadata": {},
   "source": [
    "** Now recreate this plot but create 3 separate plots with each plot representing a Reason for the 911 call**"
   ]
  },
  {
   "cell_type": "code",
   "execution_count": 92,
   "metadata": {},
   "outputs": [
    {
     "data": {
      "image/png": "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\n",
      "text/plain": [
       "<Figure size 432x288 with 1 Axes>"
      ]
     },
     "metadata": {},
     "output_type": "display_data"
    }
   ],
   "source": [
    "df[df['Reason']=='Traffic'].groupby('Date').count()['twp'].plot()\n",
    "plt.title('Traffic')\n",
    "plt.tight_layout()"
   ]
  },
  {
   "cell_type": "code",
   "execution_count": 93,
   "metadata": {},
   "outputs": [
    {
     "data": {
      "image/png": "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\n",
      "text/plain": [
       "<Figure size 432x288 with 1 Axes>"
      ]
     },
     "metadata": {},
     "output_type": "display_data"
    }
   ],
   "source": [
    "df[df['Reason']=='Fire'].groupby('Date').count()['twp'].plot()\n",
    "plt.title('Fire')\n",
    "plt.tight_layout()"
   ]
  },
  {
   "cell_type": "code",
   "execution_count": null,
   "metadata": {},
   "outputs": [],
   "source": []
  },
  {
   "cell_type": "code",
   "execution_count": 94,
   "metadata": {
    "scrolled": true
   },
   "outputs": [
    {
     "data": {
      "image/png": "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\n",
      "text/plain": [
       "<Figure size 432x288 with 1 Axes>"
      ]
     },
     "metadata": {},
     "output_type": "display_data"
    }
   ],
   "source": [
    "df[df['Reason']=='EMS'].groupby('Date').count()['twp'].plot()\n",
    "plt.title('EMS')\n",
    "plt.tight_layout()"
   ]
  },
  {
   "cell_type": "code",
   "execution_count": null,
   "metadata": {},
   "outputs": [],
   "source": []
  },
  {
   "cell_type": "code",
   "execution_count": 202,
   "metadata": {},
   "outputs": [
    {
     "data": {
      "image/png": "iVBORw0KGgoAAAANSUhEUgAAAagAAAEZCAYAAADCJLEQAAAABHNCSVQICAgIfAhkiAAAAAlwSFlz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\nTkSuQmCC\n",
      "text/plain": [
       "<matplotlib.figure.Figure at 0x13030f8d0>"
      ]
     },
     "metadata": {},
     "output_type": "display_data"
    }
   ],
   "source": []
  },
  {
   "cell_type": "markdown",
   "metadata": {},
   "source": [
    "____\n",
    "** Now let's move on to creating  heatmaps with seaborn and our data. We'll first need to restructure the dataframe so that the columns become the Hours and the Index becomes the Day of the Week. There are lots of ways to do this, but I would recommend trying to combine groupby with an [unstack](http://pandas.pydata.org/pandas-docs/stable/generated/pandas.DataFrame.unstack.html) method. Reference the solutions if you get stuck on this!**"
   ]
  },
  {
   "cell_type": "code",
   "execution_count": 95,
   "metadata": {},
   "outputs": [
    {
     "data": {
      "text/html": [
       "<div>\n",
       "<style scoped>\n",
       "    .dataframe tbody tr th:only-of-type {\n",
       "        vertical-align: middle;\n",
       "    }\n",
       "\n",
       "    .dataframe tbody tr th {\n",
       "        vertical-align: top;\n",
       "    }\n",
       "\n",
       "    .dataframe thead th {\n",
       "        text-align: right;\n",
       "    }\n",
       "</style>\n",
       "<table border=\"1\" class=\"dataframe\">\n",
       "  <thead>\n",
       "    <tr style=\"text-align: right;\">\n",
       "      <th>Hour</th>\n",
       "      <th>0</th>\n",
       "      <th>1</th>\n",
       "      <th>2</th>\n",
       "      <th>3</th>\n",
       "      <th>4</th>\n",
       "      <th>5</th>\n",
       "      <th>6</th>\n",
       "      <th>7</th>\n",
       "      <th>8</th>\n",
       "      <th>9</th>\n",
       "      <th>...</th>\n",
       "      <th>14</th>\n",
       "      <th>15</th>\n",
       "      <th>16</th>\n",
       "      <th>17</th>\n",
       "      <th>18</th>\n",
       "      <th>19</th>\n",
       "      <th>20</th>\n",
       "      <th>21</th>\n",
       "      <th>22</th>\n",
       "      <th>23</th>\n",
       "    </tr>\n",
       "    <tr>\n",
       "      <th>Day of Week</th>\n",
       "      <th></th>\n",
       "      <th></th>\n",
       "      <th></th>\n",
       "      <th></th>\n",
       "      <th></th>\n",
       "      <th></th>\n",
       "      <th></th>\n",
       "      <th></th>\n",
       "      <th></th>\n",
       "      <th></th>\n",
       "      <th></th>\n",
       "      <th></th>\n",
       "      <th></th>\n",
       "      <th></th>\n",
       "      <th></th>\n",
       "      <th></th>\n",
       "      <th></th>\n",
       "      <th></th>\n",
       "      <th></th>\n",
       "      <th></th>\n",
       "      <th></th>\n",
       "    </tr>\n",
       "  </thead>\n",
       "  <tbody>\n",
       "    <tr>\n",
       "      <th>Fri</th>\n",
       "      <td>275</td>\n",
       "      <td>235</td>\n",
       "      <td>191</td>\n",
       "      <td>175</td>\n",
       "      <td>201</td>\n",
       "      <td>194</td>\n",
       "      <td>372</td>\n",
       "      <td>598</td>\n",
       "      <td>742</td>\n",
       "      <td>752</td>\n",
       "      <td>...</td>\n",
       "      <td>932</td>\n",
       "      <td>980</td>\n",
       "      <td>1039</td>\n",
       "      <td>980</td>\n",
       "      <td>820</td>\n",
       "      <td>696</td>\n",
       "      <td>667</td>\n",
       "      <td>559</td>\n",
       "      <td>514</td>\n",
       "      <td>474</td>\n",
       "    </tr>\n",
       "    <tr>\n",
       "      <th>Mon</th>\n",
       "      <td>282</td>\n",
       "      <td>221</td>\n",
       "      <td>201</td>\n",
       "      <td>194</td>\n",
       "      <td>204</td>\n",
       "      <td>267</td>\n",
       "      <td>397</td>\n",
       "      <td>653</td>\n",
       "      <td>819</td>\n",
       "      <td>786</td>\n",
       "      <td>...</td>\n",
       "      <td>869</td>\n",
       "      <td>913</td>\n",
       "      <td>989</td>\n",
       "      <td>997</td>\n",
       "      <td>885</td>\n",
       "      <td>746</td>\n",
       "      <td>613</td>\n",
       "      <td>497</td>\n",
       "      <td>472</td>\n",
       "      <td>325</td>\n",
       "    </tr>\n",
       "    <tr>\n",
       "      <th>Sat</th>\n",
       "      <td>375</td>\n",
       "      <td>301</td>\n",
       "      <td>263</td>\n",
       "      <td>260</td>\n",
       "      <td>224</td>\n",
       "      <td>231</td>\n",
       "      <td>257</td>\n",
       "      <td>391</td>\n",
       "      <td>459</td>\n",
       "      <td>640</td>\n",
       "      <td>...</td>\n",
       "      <td>789</td>\n",
       "      <td>796</td>\n",
       "      <td>848</td>\n",
       "      <td>757</td>\n",
       "      <td>778</td>\n",
       "      <td>696</td>\n",
       "      <td>628</td>\n",
       "      <td>572</td>\n",
       "      <td>506</td>\n",
       "      <td>467</td>\n",
       "    </tr>\n",
       "    <tr>\n",
       "      <th>Sun</th>\n",
       "      <td>383</td>\n",
       "      <td>306</td>\n",
       "      <td>286</td>\n",
       "      <td>268</td>\n",
       "      <td>242</td>\n",
       "      <td>240</td>\n",
       "      <td>300</td>\n",
       "      <td>402</td>\n",
       "      <td>483</td>\n",
       "      <td>620</td>\n",
       "      <td>...</td>\n",
       "      <td>684</td>\n",
       "      <td>691</td>\n",
       "      <td>663</td>\n",
       "      <td>714</td>\n",
       "      <td>670</td>\n",
       "      <td>655</td>\n",
       "      <td>537</td>\n",
       "      <td>461</td>\n",
       "      <td>415</td>\n",
       "      <td>330</td>\n",
       "    </tr>\n",
       "    <tr>\n",
       "      <th>Thu</th>\n",
       "      <td>278</td>\n",
       "      <td>202</td>\n",
       "      <td>233</td>\n",
       "      <td>159</td>\n",
       "      <td>182</td>\n",
       "      <td>203</td>\n",
       "      <td>362</td>\n",
       "      <td>570</td>\n",
       "      <td>777</td>\n",
       "      <td>828</td>\n",
       "      <td>...</td>\n",
       "      <td>876</td>\n",
       "      <td>969</td>\n",
       "      <td>935</td>\n",
       "      <td>1013</td>\n",
       "      <td>810</td>\n",
       "      <td>698</td>\n",
       "      <td>617</td>\n",
       "      <td>553</td>\n",
       "      <td>424</td>\n",
       "      <td>354</td>\n",
       "    </tr>\n",
       "  </tbody>\n",
       "</table>\n",
       "<p>5 rows × 24 columns</p>\n",
       "</div>"
      ],
      "text/plain": [
       "Hour          0    1    2    3    4    5    6    7    8    9  ...    14   15  \\\n",
       "Day of Week                                                   ...              \n",
       "Fri          275  235  191  175  201  194  372  598  742  752 ...   932  980   \n",
       "Mon          282  221  201  194  204  267  397  653  819  786 ...   869  913   \n",
       "Sat          375  301  263  260  224  231  257  391  459  640 ...   789  796   \n",
       "Sun          383  306  286  268  242  240  300  402  483  620 ...   684  691   \n",
       "Thu          278  202  233  159  182  203  362  570  777  828 ...   876  969   \n",
       "\n",
       "Hour           16    17   18   19   20   21   22   23  \n",
       "Day of Week                                            \n",
       "Fri          1039   980  820  696  667  559  514  474  \n",
       "Mon           989   997  885  746  613  497  472  325  \n",
       "Sat           848   757  778  696  628  572  506  467  \n",
       "Sun           663   714  670  655  537  461  415  330  \n",
       "Thu           935  1013  810  698  617  553  424  354  \n",
       "\n",
       "[5 rows x 24 columns]"
      ]
     },
     "execution_count": 95,
     "metadata": {},
     "output_type": "execute_result"
    }
   ],
   "source": [
    "dayHour = df.groupby(by=['Day of Week','Hour']).count()['Reason'].unstack()\n",
    "dayHour.head()"
   ]
  },
  {
   "cell_type": "code",
   "execution_count": 203,
   "metadata": {},
   "outputs": [
    {
     "data": {
      "text/html": [
       "<div>\n",
       "<table border=\"1\" class=\"dataframe\">\n",
       "  <thead>\n",
       "    <tr style=\"text-align: right;\">\n",
       "      <th>Hour</th>\n",
       "      <th>0</th>\n",
       "      <th>1</th>\n",
       "      <th>2</th>\n",
       "      <th>3</th>\n",
       "      <th>4</th>\n",
       "      <th>5</th>\n",
       "      <th>6</th>\n",
       "      <th>7</th>\n",
       "      <th>8</th>\n",
       "      <th>9</th>\n",
       "      <th>...</th>\n",
       "      <th>14</th>\n",
       "      <th>15</th>\n",
       "      <th>16</th>\n",
       "      <th>17</th>\n",
       "      <th>18</th>\n",
       "      <th>19</th>\n",
       "      <th>20</th>\n",
       "      <th>21</th>\n",
       "      <th>22</th>\n",
       "      <th>23</th>\n",
       "    </tr>\n",
       "    <tr>\n",
       "      <th>Day of Week</th>\n",
       "      <th></th>\n",
       "      <th></th>\n",
       "      <th></th>\n",
       "      <th></th>\n",
       "      <th></th>\n",
       "      <th></th>\n",
       "      <th></th>\n",
       "      <th></th>\n",
       "      <th></th>\n",
       "      <th></th>\n",
       "      <th></th>\n",
       "      <th></th>\n",
       "      <th></th>\n",
       "      <th></th>\n",
       "      <th></th>\n",
       "      <th></th>\n",
       "      <th></th>\n",
       "      <th></th>\n",
       "      <th></th>\n",
       "      <th></th>\n",
       "      <th></th>\n",
       "    </tr>\n",
       "  </thead>\n",
       "  <tbody>\n",
       "    <tr>\n",
       "      <th>Fri</th>\n",
       "      <td>275</td>\n",
       "      <td>235</td>\n",
       "      <td>191</td>\n",
       "      <td>175</td>\n",
       "      <td>201</td>\n",
       "      <td>194</td>\n",
       "      <td>372</td>\n",
       "      <td>598</td>\n",
       "      <td>742</td>\n",
       "      <td>752</td>\n",
       "      <td>...</td>\n",
       "      <td>932</td>\n",
       "      <td>980</td>\n",
       "      <td>1039</td>\n",
       "      <td>980</td>\n",
       "      <td>820</td>\n",
       "      <td>696</td>\n",
       "      <td>667</td>\n",
       "      <td>559</td>\n",
       "      <td>514</td>\n",
       "      <td>474</td>\n",
       "    </tr>\n",
       "    <tr>\n",
       "      <th>Mon</th>\n",
       "      <td>282</td>\n",
       "      <td>221</td>\n",
       "      <td>201</td>\n",
       "      <td>194</td>\n",
       "      <td>204</td>\n",
       "      <td>267</td>\n",
       "      <td>397</td>\n",
       "      <td>653</td>\n",
       "      <td>819</td>\n",
       "      <td>786</td>\n",
       "      <td>...</td>\n",
       "      <td>869</td>\n",
       "      <td>913</td>\n",
       "      <td>989</td>\n",
       "      <td>997</td>\n",
       "      <td>885</td>\n",
       "      <td>746</td>\n",
       "      <td>613</td>\n",
       "      <td>497</td>\n",
       "      <td>472</td>\n",
       "      <td>325</td>\n",
       "    </tr>\n",
       "    <tr>\n",
       "      <th>Sat</th>\n",
       "      <td>375</td>\n",
       "      <td>301</td>\n",
       "      <td>263</td>\n",
       "      <td>260</td>\n",
       "      <td>224</td>\n",
       "      <td>231</td>\n",
       "      <td>257</td>\n",
       "      <td>391</td>\n",
       "      <td>459</td>\n",
       "      <td>640</td>\n",
       "      <td>...</td>\n",
       "      <td>789</td>\n",
       "      <td>796</td>\n",
       "      <td>848</td>\n",
       "      <td>757</td>\n",
       "      <td>778</td>\n",
       "      <td>696</td>\n",
       "      <td>628</td>\n",
       "      <td>572</td>\n",
       "      <td>506</td>\n",
       "      <td>467</td>\n",
       "    </tr>\n",
       "    <tr>\n",
       "      <th>Sun</th>\n",
       "      <td>383</td>\n",
       "      <td>306</td>\n",
       "      <td>286</td>\n",
       "      <td>268</td>\n",
       "      <td>242</td>\n",
       "      <td>240</td>\n",
       "      <td>300</td>\n",
       "      <td>402</td>\n",
       "      <td>483</td>\n",
       "      <td>620</td>\n",
       "      <td>...</td>\n",
       "      <td>684</td>\n",
       "      <td>691</td>\n",
       "      <td>663</td>\n",
       "      <td>714</td>\n",
       "      <td>670</td>\n",
       "      <td>655</td>\n",
       "      <td>537</td>\n",
       "      <td>461</td>\n",
       "      <td>415</td>\n",
       "      <td>330</td>\n",
       "    </tr>\n",
       "    <tr>\n",
       "      <th>Thu</th>\n",
       "      <td>278</td>\n",
       "      <td>202</td>\n",
       "      <td>233</td>\n",
       "      <td>159</td>\n",
       "      <td>182</td>\n",
       "      <td>203</td>\n",
       "      <td>362</td>\n",
       "      <td>570</td>\n",
       "      <td>777</td>\n",
       "      <td>828</td>\n",
       "      <td>...</td>\n",
       "      <td>876</td>\n",
       "      <td>969</td>\n",
       "      <td>935</td>\n",
       "      <td>1013</td>\n",
       "      <td>810</td>\n",
       "      <td>698</td>\n",
       "      <td>617</td>\n",
       "      <td>553</td>\n",
       "      <td>424</td>\n",
       "      <td>354</td>\n",
       "    </tr>\n",
       "  </tbody>\n",
       "</table>\n",
       "<p>5 rows × 24 columns</p>\n",
       "</div>"
      ],
      "text/plain": [
       "Hour          0    1    2    3    4    5    6    7    8    9  ...    14   15  \\\n",
       "Day of Week                                                   ...              \n",
       "Fri          275  235  191  175  201  194  372  598  742  752 ...   932  980   \n",
       "Mon          282  221  201  194  204  267  397  653  819  786 ...   869  913   \n",
       "Sat          375  301  263  260  224  231  257  391  459  640 ...   789  796   \n",
       "Sun          383  306  286  268  242  240  300  402  483  620 ...   684  691   \n",
       "Thu          278  202  233  159  182  203  362  570  777  828 ...   876  969   \n",
       "\n",
       "Hour           16    17   18   19   20   21   22   23  \n",
       "Day of Week                                            \n",
       "Fri          1039   980  820  696  667  559  514  474  \n",
       "Mon           989   997  885  746  613  497  472  325  \n",
       "Sat           848   757  778  696  628  572  506  467  \n",
       "Sun           663   714  670  655  537  461  415  330  \n",
       "Thu           935  1013  810  698  617  553  424  354  \n",
       "\n",
       "[5 rows x 24 columns]"
      ]
     },
     "execution_count": 203,
     "metadata": {},
     "output_type": "execute_result"
    }
   ],
   "source": []
  },
  {
   "cell_type": "markdown",
   "metadata": {},
   "source": [
    "** Now create a HeatMap using this new DataFrame. **"
   ]
  },
  {
   "cell_type": "code",
   "execution_count": 96,
   "metadata": {},
   "outputs": [
    {
     "data": {
      "text/plain": [
       "<matplotlib.axes._subplots.AxesSubplot at 0xd6f03b0>"
      ]
     },
     "execution_count": 96,
     "metadata": {},
     "output_type": "execute_result"
    },
    {
     "data": {
      "image/png": "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\n",
      "text/plain": [
       "<Figure size 432x288 with 2 Axes>"
      ]
     },
     "metadata": {},
     "output_type": "display_data"
    }
   ],
   "source": [
    "sns.heatmap(dayHour)"
   ]
  },
  {
   "cell_type": "code",
   "execution_count": 204,
   "metadata": {},
   "outputs": [
    {
     "data": {
      "text/plain": [
       "<matplotlib.axes._subplots.AxesSubplot at 0x1253fa198>"
      ]
     },
     "execution_count": 204,
     "metadata": {},
     "output_type": "execute_result"
    },
    {
     "data": {
      "image/png": "iVBORw0KGgoAAAANSUhEUgAAAo8AAAF8CAYAAACuflFRAAAABHNCSVQICAgIfAhkiAAAAAlwSFlz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\nzu4YAAAAAElFTkSuQmCC\n",
      "text/plain": [
       "<matplotlib.figure.Figure at 0x12b4bc940>"
      ]
     },
     "metadata": {},
     "output_type": "display_data"
    }
   ],
   "source": []
  },
  {
   "cell_type": "markdown",
   "metadata": {},
   "source": [
    "** Now create a clustermap using this DataFrame. **"
   ]
  },
  {
   "cell_type": "code",
   "execution_count": 97,
   "metadata": {},
   "outputs": [
    {
     "data": {
      "text/plain": [
       "<seaborn.matrix.ClusterGrid at 0xc336ef0>"
      ]
     },
     "execution_count": 97,
     "metadata": {},
     "output_type": "execute_result"
    },
    {
     "data": {
      "image/png": "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\n",
      "text/plain": [
       "<Figure size 720x720 with 4 Axes>"
      ]
     },
     "metadata": {},
     "output_type": "display_data"
    }
   ],
   "source": [
    "sns.clustermap(dayHour)"
   ]
  },
  {
   "cell_type": "code",
   "execution_count": 205,
   "metadata": {},
   "outputs": [
    {
     "data": {
      "text/plain": [
       "<seaborn.matrix.ClusterGrid at 0x1304fb668>"
      ]
     },
     "execution_count": 205,
     "metadata": {},
     "output_type": "execute_result"
    },
    {
     "data": {
      "image/png": "iVBORw0KGgoAAAANSUhEUgAAAlsAAAJbCAYAAADTxVFxAAAABHNCSVQICAgIfAhkiAAAAAlwSFlz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\nkGFLkiSpoP8PGwocjpNs7BAAAAAASUVORK5CYII=\n",
      "text/plain": [
       "<matplotlib.figure.Figure at 0x1304fb320>"
      ]
     },
     "metadata": {},
     "output_type": "display_data"
    }
   ],
   "source": []
  },
  {
   "cell_type": "markdown",
   "metadata": {},
   "source": [
    "** Now repeat these same plots and operations, for a DataFrame that shows the Month as the column. **"
   ]
  },
  {
   "cell_type": "code",
   "execution_count": 98,
   "metadata": {},
   "outputs": [
    {
     "data": {
      "text/html": [
       "<div>\n",
       "<style scoped>\n",
       "    .dataframe tbody tr th:only-of-type {\n",
       "        vertical-align: middle;\n",
       "    }\n",
       "\n",
       "    .dataframe tbody tr th {\n",
       "        vertical-align: top;\n",
       "    }\n",
       "\n",
       "    .dataframe thead th {\n",
       "        text-align: right;\n",
       "    }\n",
       "</style>\n",
       "<table border=\"1\" class=\"dataframe\">\n",
       "  <thead>\n",
       "    <tr style=\"text-align: right;\">\n",
       "      <th>Month</th>\n",
       "      <th>1</th>\n",
       "      <th>2</th>\n",
       "      <th>3</th>\n",
       "      <th>4</th>\n",
       "      <th>5</th>\n",
       "      <th>6</th>\n",
       "      <th>7</th>\n",
       "      <th>8</th>\n",
       "      <th>12</th>\n",
       "    </tr>\n",
       "    <tr>\n",
       "      <th>Day of Week</th>\n",
       "      <th></th>\n",
       "      <th></th>\n",
       "      <th></th>\n",
       "      <th></th>\n",
       "      <th></th>\n",
       "      <th></th>\n",
       "      <th></th>\n",
       "      <th></th>\n",
       "      <th></th>\n",
       "    </tr>\n",
       "  </thead>\n",
       "  <tbody>\n",
       "    <tr>\n",
       "      <th>Fri</th>\n",
       "      <td>1970</td>\n",
       "      <td>1581</td>\n",
       "      <td>1525</td>\n",
       "      <td>1958</td>\n",
       "      <td>1730</td>\n",
       "      <td>1649</td>\n",
       "      <td>2045</td>\n",
       "      <td>1310</td>\n",
       "      <td>1065</td>\n",
       "    </tr>\n",
       "    <tr>\n",
       "      <th>Mon</th>\n",
       "      <td>1727</td>\n",
       "      <td>1964</td>\n",
       "      <td>1535</td>\n",
       "      <td>1598</td>\n",
       "      <td>1779</td>\n",
       "      <td>1617</td>\n",
       "      <td>1692</td>\n",
       "      <td>1511</td>\n",
       "      <td>1257</td>\n",
       "    </tr>\n",
       "    <tr>\n",
       "      <th>Sat</th>\n",
       "      <td>2291</td>\n",
       "      <td>1441</td>\n",
       "      <td>1266</td>\n",
       "      <td>1734</td>\n",
       "      <td>1444</td>\n",
       "      <td>1388</td>\n",
       "      <td>1695</td>\n",
       "      <td>1099</td>\n",
       "      <td>978</td>\n",
       "    </tr>\n",
       "    <tr>\n",
       "      <th>Sun</th>\n",
       "      <td>1960</td>\n",
       "      <td>1229</td>\n",
       "      <td>1102</td>\n",
       "      <td>1488</td>\n",
       "      <td>1424</td>\n",
       "      <td>1333</td>\n",
       "      <td>1672</td>\n",
       "      <td>1021</td>\n",
       "      <td>907</td>\n",
       "    </tr>\n",
       "    <tr>\n",
       "      <th>Thu</th>\n",
       "      <td>1584</td>\n",
       "      <td>1596</td>\n",
       "      <td>1900</td>\n",
       "      <td>1601</td>\n",
       "      <td>1590</td>\n",
       "      <td>2065</td>\n",
       "      <td>1646</td>\n",
       "      <td>1230</td>\n",
       "      <td>1266</td>\n",
       "    </tr>\n",
       "  </tbody>\n",
       "</table>\n",
       "</div>"
      ],
      "text/plain": [
       "Month          1     2     3     4     5     6     7     8     12\n",
       "Day of Week                                                      \n",
       "Fri          1970  1581  1525  1958  1730  1649  2045  1310  1065\n",
       "Mon          1727  1964  1535  1598  1779  1617  1692  1511  1257\n",
       "Sat          2291  1441  1266  1734  1444  1388  1695  1099   978\n",
       "Sun          1960  1229  1102  1488  1424  1333  1672  1021   907\n",
       "Thu          1584  1596  1900  1601  1590  2065  1646  1230  1266"
      ]
     },
     "execution_count": 98,
     "metadata": {},
     "output_type": "execute_result"
    }
   ],
   "source": [
    "dayMonth = df.groupby(by=['Day of Week','Month']).count()['Reason'].unstack()\n",
    "dayMonth.head()"
   ]
  },
  {
   "cell_type": "code",
   "execution_count": 102,
   "metadata": {
    "scrolled": true
   },
   "outputs": [
    {
     "data": {
      "text/plain": [
       "<Figure size 864x432 with 0 Axes>"
      ]
     },
     "execution_count": 102,
     "metadata": {},
     "output_type": "execute_result"
    },
    {
     "data": {
      "image/png": "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\n",
      "text/plain": [
       "<Figure size 432x288 with 2 Axes>"
      ]
     },
     "metadata": {},
     "output_type": "display_data"
    },
    {
     "data": {
      "text/plain": [
       "<Figure size 864x432 with 0 Axes>"
      ]
     },
     "metadata": {},
     "output_type": "display_data"
    }
   ],
   "source": [
    "sns.heatmap(dayMonth)\n",
    "plt.figure(figsize=(12,6))"
   ]
  },
  {
   "cell_type": "code",
   "execution_count": null,
   "metadata": {},
   "outputs": [],
   "source": []
  },
  {
   "cell_type": "code",
   "execution_count": 208,
   "metadata": {},
   "outputs": [
    {
     "data": {
      "text/plain": [
       "<matplotlib.axes._subplots.AxesSubplot at 0x1304fbd30>"
      ]
     },
     "execution_count": 208,
     "metadata": {},
     "output_type": "execute_result"
    },
    {
     "data": {
      "image/png": "iVBORw0KGgoAAAANSUhEUgAAApQAAAF8CAYAAABxMCtOAAAABHNCSVQICAgIfAhkiAAAAAlwSFlz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\n",
      "text/plain": [
       "<matplotlib.figure.Figure at 0x12a1a2a58>"
      ]
     },
     "metadata": {},
     "output_type": "display_data"
    }
   ],
   "source": []
  },
  {
   "cell_type": "code",
   "execution_count": 101,
   "metadata": {},
   "outputs": [
    {
     "data": {
      "text/plain": [
       "<Figure size 864x432 with 0 Axes>"
      ]
     },
     "execution_count": 101,
     "metadata": {},
     "output_type": "execute_result"
    },
    {
     "data": {
      "image/png": "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\n",
      "text/plain": [
       "<Figure size 432x288 with 2 Axes>"
      ]
     },
     "metadata": {},
     "output_type": "display_data"
    },
    {
     "data": {
      "text/plain": [
       "<Figure size 864x432 with 0 Axes>"
      ]
     },
     "metadata": {},
     "output_type": "display_data"
    }
   ],
   "source": [
    "sns.heatmap(dayMonth)\n",
    "plt.figure(figsize=(12,6))"
   ]
  },
  {
   "cell_type": "markdown",
   "metadata": {
    "collapsed": true
   },
   "source": [
    "**Continue exploring the Data however you see fit!**\n",
    "# Great Job!"
   ]
  }
 ],
 "metadata": {
  "kernelspec": {
   "display_name": "Python 3",
   "language": "python",
   "name": "python3"
  },
  "language_info": {
   "codemirror_mode": {
    "name": "ipython",
    "version": 3
   },
   "file_extension": ".py",
   "mimetype": "text/x-python",
   "name": "python",
   "nbconvert_exporter": "python",
   "pygments_lexer": "ipython3",
   "version": "3.6.4"
  }
 },
 "nbformat": 4,
 "nbformat_minor": 1
}
